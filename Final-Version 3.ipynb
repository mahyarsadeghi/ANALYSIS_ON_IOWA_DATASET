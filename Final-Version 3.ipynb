{
 "cells": [
  {
   "cell_type": "code",
   "execution_count": null,
   "metadata": {},
   "outputs": [],
   "source": [
    "!pip install numpy\n",
    "!pip install pandas"
   ]
  },
  {
   "cell_type": "code",
   "execution_count": 1,
   "metadata": {},
   "outputs": [],
   "source": [
    "import findspark\n",
    "findspark.init()"
   ]
  },
  {
   "cell_type": "code",
   "execution_count": 2,
   "metadata": {},
   "outputs": [],
   "source": [
    "from pyspark import SparkContext"
   ]
  },
  {
   "cell_type": "code",
   "execution_count": 3,
   "metadata": {},
   "outputs": [],
   "source": [
    "from pyspark.sql import SparkSession\n",
    "from pyspark.sql.functions import *\n",
    "from pyspark.sql.functions import avg, round"
   ]
  },
  {
   "cell_type": "code",
   "execution_count": 4,
   "metadata": {},
   "outputs": [],
   "source": [
    "import pyspark as ps\n",
    "from pyspark.sql.functions import count, avg,max,min\n",
    "from pyspark.sql import SQLContext\n",
    "from pyspark.sql import functions as F\n",
    "import numpy as np\n",
    "import matplotlib.pyplot as plt\n",
    "from mpl_toolkits.mplot3d import axes3d, Axes3D\n",
    "from pyspark.ml.regression import LinearRegression\n",
    "from pyspark.ml.feature import VectorAssembler\n",
    "import pandas as pd"
   ]
  },
  {
   "cell_type": "code",
   "execution_count": 5,
   "metadata": {},
   "outputs": [],
   "source": [
    "spark_session = SparkSession.builder\\\n",
    " .enableHiveSupport()\\\n",
    " .appName(\"IOWA Sales\")\\\n",
    " .master(\"local\")\\\n",
    " .getOrCreate()"
   ]
  },
  {
   "cell_type": "code",
   "execution_count": 6,
   "metadata": {},
   "outputs": [],
   "source": [
    "df = spark_session.read.csv('Iowa_10_percent.csv')"
   ]
  },
  {
   "cell_type": "code",
   "execution_count": 7,
   "metadata": {},
   "outputs": [],
   "source": [
    "df = spark_session.read.option('header','true').csv('Iowa_10_percent.csv',inferSchema=True)"
   ]
  },
  {
   "cell_type": "code",
   "execution_count": 8,
   "metadata": {},
   "outputs": [
    {
     "name": "stdout",
     "output_type": "stream",
     "text": [
      "root\n",
      " |-- Invoice/Item Number: string (nullable = true)\n",
      " |-- Date: string (nullable = true)\n",
      " |-- Store Number: integer (nullable = true)\n",
      " |-- Store Name: string (nullable = true)\n",
      " |-- Address: string (nullable = true)\n",
      " |-- City: string (nullable = true)\n",
      " |-- Zip Code: string (nullable = true)\n",
      " |-- Store Location: string (nullable = true)\n",
      " |-- County Number: integer (nullable = true)\n",
      " |-- County: string (nullable = true)\n",
      " |-- Category: integer (nullable = true)\n",
      " |-- Category Name: string (nullable = true)\n",
      " |-- Vendor Number: integer (nullable = true)\n",
      " |-- Vendor Name: string (nullable = true)\n",
      " |-- Item Number: string (nullable = true)\n",
      " |-- Item Description: string (nullable = true)\n",
      " |-- Pack: integer (nullable = true)\n",
      " |-- Bottle Volume (ml): integer (nullable = true)\n",
      " |-- State Bottle Cost: double (nullable = true)\n",
      " |-- State Bottle Retail: double (nullable = true)\n",
      " |-- Bottles Sold: integer (nullable = true)\n",
      " |-- Sale (Dollars): double (nullable = true)\n",
      " |-- Volume Sold (Liters): double (nullable = true)\n",
      " |-- Volume Sold (Gallons): double (nullable = true)\n",
      " |-- Month: integer (nullable = true)\n",
      " |-- Year: integer (nullable = true)\n",
      "\n"
     ]
    }
   ],
   "source": [
    "df.printSchema()"
   ]
  },
  {
   "cell_type": "code",
   "execution_count": 9,
   "metadata": {},
   "outputs": [
    {
     "name": "stdout",
     "output_type": "stream",
     "text": [
      "Wall time: 335 ms\n"
     ]
    }
   ],
   "source": [
    "%%time\n",
    "# Convert timestamp str to timestamp\n",
    "df = df.withColumn('Date',to_date(\"Date\",\"MM/dd/yyy\"))\n",
    "\n",
    "# Convert City Names\n",
    "df = df.withColumn('City',upper(\"City\"))\n",
    "\n",
    "# Create new column for year \n",
    "df = df.withColumn('Year', year(col('Date')))\n",
    "\n",
    "# Create new column for month \n",
    "df = df.withColumn('Month', month(col('Date')))\n",
    "\n",
    "# Brand names\n",
    "df = df.withColumn('Category Name',upper(\"Category Name\"))\n",
    "\n",
    "# Drop na values where year is NA\n",
    "# drop None Values\n",
    "df.na.drop(subset=[\"Year\",\"County\"])"
   ]
  },
  {
   "cell_type": "code",
   "execution_count": 10,
   "metadata": {},
   "outputs": [
    {
     "name": "stdout",
     "output_type": "stream",
     "text": [
      "Wall time: 30.5 ms\n"
     ]
    }
   ],
   "source": [
    "%%time\n",
    "# Count County ( Clean the County name data to remove duplicates due to Uppercase / Lowercase mismatches.)\n",
    "df = df.withColumn('County',upper(\"County\"))"
   ]
  },
  {
   "cell_type": "markdown",
   "metadata": {},
   "source": [
    "### Here we can see that we have data from 2012 to 2020. "
   ]
  },
  {
   "cell_type": "code",
   "execution_count": 11,
   "metadata": {},
   "outputs": [
    {
     "name": "stdout",
     "output_type": "stream",
     "text": [
      "+----+\n",
      "|Year|\n",
      "+----+\n",
      "|2012|\n",
      "|2013|\n",
      "|2014|\n",
      "|2015|\n",
      "|2016|\n",
      "|2017|\n",
      "|2018|\n",
      "|2019|\n",
      "|2020|\n",
      "+----+\n",
      "\n",
      "Wall time: 14.1 s\n"
     ]
    }
   ],
   "source": [
    "%%time\n",
    "years = df.select(\"Year\").distinct().sort(\"Year\").show()"
   ]
  },
  {
   "cell_type": "markdown",
   "metadata": {},
   "source": [
    "## Q1: Total sales for each county and city.\n",
    "We list the top 10 County and City in terms of sales. \n",
    "By this question, we find out which county consumes the most alcohol."
   ]
  },
  {
   "cell_type": "code",
   "execution_count": 12,
   "metadata": {},
   "outputs": [
    {
     "name": "stdout",
     "output_type": "stream",
     "text": [
      "Wall time: 71.7 ms\n"
     ]
    }
   ],
   "source": [
    "%%time\n",
    "# Select most popular brand here\n",
    "df_1 = df.groupBy('County').sum('Sale (Dollars)').alias('Sales')"
   ]
  },
  {
   "cell_type": "code",
   "execution_count": 13,
   "metadata": {},
   "outputs": [
    {
     "name": "stdout",
     "output_type": "stream",
     "text": [
      "+----------+-------------------+\n",
      "|    County|sum(Sale (Dollars))|\n",
      "+----------+-------------------+\n",
      "|   FREMONT| 27555.220000000005|\n",
      "|     ADAMS|  87996.81999999999|\n",
      "|     DAVIS|           99683.76|\n",
      "|    TAYLOR|          106213.88|\n",
      "|     WAYNE|           106503.0|\n",
      "|  RINGGOLD| 122793.09999999999|\n",
      "|   AUDUBON| 145344.55000000002|\n",
      "|    KEOKUK|          150451.65|\n",
      "|   DECATUR| 157740.01000000007|\n",
      "| VAN BUREN| 162379.94999999995|\n",
      "|    LOUISA| 210894.84000000023|\n",
      "|   OSCEOLA|  226278.5500000001|\n",
      "|     WORTH| 229507.62999999995|\n",
      "|    BUTLER|          264441.69|\n",
      "|    GRUNDY|          267198.29|\n",
      "|   GUTHRIE|  286699.6800000003|\n",
      "|    MONROE|  305257.5900000001|\n",
      "|POCAHONTAS| 307460.00000000006|\n",
      "|   CALHOUN| 312247.51999999984|\n",
      "|   HANCOCK| 324731.86000000016|\n",
      "+----------+-------------------+\n",
      "only showing top 20 rows\n",
      "\n",
      "Wall time: 11.2 s\n"
     ]
    }
   ],
   "source": [
    "%%time\n",
    "df_1.sort(col(\"sum(Sale (Dollars))\")).show()"
   ]
  },
  {
   "cell_type": "markdown",
   "metadata": {},
   "source": [
    "### City"
   ]
  },
  {
   "cell_type": "code",
   "execution_count": 14,
   "metadata": {},
   "outputs": [
    {
     "name": "stdout",
     "output_type": "stream",
     "text": [
      "Wall time: 36.9 ms\n"
     ]
    }
   ],
   "source": [
    "%%time\n",
    "df_2 = df.groupBy('City').sum('Bottles Sold').alias('Sales')"
   ]
  },
  {
   "cell_type": "code",
   "execution_count": 15,
   "metadata": {},
   "outputs": [
    {
     "name": "stdout",
     "output_type": "stream",
     "text": [
      "+---------------+-----------------+\n",
      "|           City|sum(Bottles Sold)|\n",
      "+---------------+-----------------+\n",
      "|         ALVORD|                1|\n",
      "|       ALLERTON|               28|\n",
      "|         MURRAY|               40|\n",
      "|        CHESTER|               66|\n",
      "|    MORNING SUN|               89|\n",
      "|           RUDD|               90|\n",
      "|         WASHTA|               95|\n",
      "|        WYOMING|              155|\n",
      "|   LIME SPRINGS|              164|\n",
      "|       MARTELLE|              175|\n",
      "|      APLINGTON|              214|\n",
      "|         CALMAR|              257|\n",
      "|         LAMONT|              259|\n",
      "|PLEASANT VALLEY|              291|\n",
      "|     ALTA VISTA|              292|\n",
      "|     GARNAVILLO|              309|\n",
      "|        POMEROY|              314|\n",
      "|        MAYNARD|              315|\n",
      "|         HINTON|              320|\n",
      "|      VAN HORNE|              332|\n",
      "+---------------+-----------------+\n",
      "only showing top 20 rows\n",
      "\n",
      "Wall time: 12.5 s\n"
     ]
    }
   ],
   "source": [
    "%%time\n",
    "df_2.sort(\"sum(Bottles Sold)\").show()"
   ]
  },
  {
   "cell_type": "markdown",
   "metadata": {},
   "source": [
    "## Q2 : How many brands are there total ? \n",
    "\n",
    "There are total 110 brands/categories in the dataset. "
   ]
  },
  {
   "cell_type": "code",
   "execution_count": 16,
   "metadata": {},
   "outputs": [
    {
     "name": "stdout",
     "output_type": "stream",
     "text": [
      "+-----------------------------+\n",
      "|count(DISTINCT Category Name)|\n",
      "+-----------------------------+\n",
      "|                          108|\n",
      "+-----------------------------+\n",
      "\n",
      "Wall time: 11.4 s\n"
     ]
    }
   ],
   "source": [
    "%%time\n",
    "brands_df=df.select(countDistinct(\"Category Name\")).show()"
   ]
  },
  {
   "cell_type": "markdown",
   "metadata": {},
   "source": [
    "# Q3: Which brands are the most sold / famous. \n",
    "In this section we find out the brands which are most famous of all time and then for every year and every month.\n",
    "<br>\n",
    "\n",
    "Write about the trend that we can observe here as the bottles sold for every product changed over years."
   ]
  },
  {
   "cell_type": "code",
   "execution_count": null,
   "metadata": {},
   "outputs": [],
   "source": [
    "# Most famous brands of all time"
   ]
  },
  {
   "cell_type": "code",
   "execution_count": 17,
   "metadata": {},
   "outputs": [
    {
     "name": "stdout",
     "output_type": "stream",
     "text": [
      "Wall time: 37.9 ms\n"
     ]
    }
   ],
   "source": [
    "%%time \n",
    "df_brands = df.groupBy(\"Category Name\").agg({\"Bottles Sold\": \"sum\",\"Sale (Dollars)\": \"sum\"})"
   ]
  },
  {
   "cell_type": "markdown",
   "metadata": {},
   "source": [
    "### The best 10 sold liquor of all time."
   ]
  },
  {
   "cell_type": "code",
   "execution_count": 18,
   "metadata": {},
   "outputs": [
    {
     "name": "stdout",
     "output_type": "stream",
     "text": [
      "+--------------------+--------------------+-----------------+\n",
      "|       Category Name| sum(Sale (Dollars))|sum(Bottles Sold)|\n",
      "+--------------------+--------------------+-----------------+\n",
      "|   CANADIAN WHISKIES|3.1663907610001802E7|          2257037|\n",
      "|     AMERICAN VODKAS|2.0184462489997026E7|          2223027|\n",
      "|      VODKA 80 PROOF|1.4500635470000194E7|          1808625|\n",
      "|          SPICED RUM|1.9199091930000298E7|          1259547|\n",
      "|     WHISKEY LIQUEUR| 1.272747751000017E7|          1244542|\n",
      "|STRAIGHT BOURBON ...| 1.573435572999996E7|           882774|\n",
      "|    BLENDED WHISKIES|   7544631.899999948|           780877|\n",
      "|  TENNESSEE WHISKIES|1.1433202540000392E7|           512248|\n",
      "|   AMERICAN DRY GINS|  3110570.7599999886|           426990|\n",
      "|        FLAVORED RUM|   5587746.609999534|           422501|\n",
      "+--------------------+--------------------+-----------------+\n",
      "only showing top 10 rows\n",
      "\n",
      "Wall time: 11.3 s\n"
     ]
    }
   ],
   "source": [
    "%%time\n",
    "#Now we sort them on the basis of sales\n",
    "df_brands.sort(col(\"sum(Bottles Sold)\").desc()).show(10)"
   ]
  },
  {
   "cell_type": "markdown",
   "metadata": {},
   "source": [
    "### Most famous brands every year "
   ]
  },
  {
   "cell_type": "code",
   "execution_count": 19,
   "metadata": {},
   "outputs": [
    {
     "name": "stdout",
     "output_type": "stream",
     "text": [
      "Wall time: 36.7 ms\n"
     ]
    }
   ],
   "source": [
    "%%time\n",
    "df_brands = df.groupBy(\"Year\",\"Category Name\") \\\n",
    "    .sum(\"Bottles Sold\")"
   ]
  },
  {
   "cell_type": "code",
   "execution_count": 20,
   "metadata": {},
   "outputs": [
    {
     "name": "stdout",
     "output_type": "stream",
     "text": [
      "Wall time: 17 ms\n"
     ]
    }
   ],
   "source": [
    "%%time\n",
    "df_brands = df_brands.groupBy(\"Year\",\"Category Name\").agg({\"sum(Bottles Sold)\":\"max\"})"
   ]
  },
  {
   "cell_type": "code",
   "execution_count": 21,
   "metadata": {},
   "outputs": [
    {
     "name": "stdout",
     "output_type": "stream",
     "text": [
      "+----+-----------------+----------------------+\n",
      "|Year|    Category Name|max(sum(Bottles Sold))|\n",
      "+----+-----------------+----------------------+\n",
      "|2012|   VODKA 80 PROOF|                343220|\n",
      "|2012|CANADIAN WHISKIES|                208404|\n",
      "|2012|       SPICED RUM|                137653|\n",
      "+----+-----------------+----------------------+\n",
      "only showing top 3 rows\n",
      "\n",
      "+----+-----------------+----------------------+\n",
      "|Year|    Category Name|max(sum(Bottles Sold))|\n",
      "+----+-----------------+----------------------+\n",
      "|2013|   VODKA 80 PROOF|                357737|\n",
      "|2013|CANADIAN WHISKIES|                226776|\n",
      "|2013|       SPICED RUM|                154644|\n",
      "+----+-----------------+----------------------+\n",
      "only showing top 3 rows\n",
      "\n",
      "+----+-----------------+----------------------+\n",
      "|Year|    Category Name|max(sum(Bottles Sold))|\n",
      "+----+-----------------+----------------------+\n",
      "|2014|   VODKA 80 PROOF|                393319|\n",
      "|2014|CANADIAN WHISKIES|                240918|\n",
      "|2014|       SPICED RUM|                143912|\n",
      "+----+-----------------+----------------------+\n",
      "only showing top 3 rows\n",
      "\n",
      "+----+-----------------+----------------------+\n",
      "|Year|    Category Name|max(sum(Bottles Sold))|\n",
      "+----+-----------------+----------------------+\n",
      "|2015|   VODKA 80 PROOF|                420387|\n",
      "|2015|CANADIAN WHISKIES|                252174|\n",
      "|2015|       SPICED RUM|                143720|\n",
      "+----+-----------------+----------------------+\n",
      "only showing top 3 rows\n",
      "\n",
      "+----+-----------------+----------------------+\n",
      "|Year|    Category Name|max(sum(Bottles Sold))|\n",
      "+----+-----------------+----------------------+\n",
      "|2016|   VODKA 80 PROOF|                293962|\n",
      "|2016|CANADIAN WHISKIES|                263324|\n",
      "|2016|  AMERICAN VODKAS|                160296|\n",
      "+----+-----------------+----------------------+\n",
      "only showing top 3 rows\n",
      "\n",
      "+----+-----------------+----------------------+\n",
      "|Year|    Category Name|max(sum(Bottles Sold))|\n",
      "+----+-----------------+----------------------+\n",
      "|2017|  AMERICAN VODKAS|                503987|\n",
      "|2017|CANADIAN WHISKIES|                269696|\n",
      "|2017|       SPICED RUM|                144965|\n",
      "+----+-----------------+----------------------+\n",
      "only showing top 3 rows\n",
      "\n",
      "+----+-----------------+----------------------+\n",
      "|Year|    Category Name|max(sum(Bottles Sold))|\n",
      "+----+-----------------+----------------------+\n",
      "|2018|  AMERICAN VODKAS|                536962|\n",
      "|2018|CANADIAN WHISKIES|                280494|\n",
      "|2018|       SPICED RUM|                148395|\n",
      "+----+-----------------+----------------------+\n",
      "only showing top 3 rows\n",
      "\n",
      "+----+-----------------+----------------------+\n",
      "|Year|    Category Name|max(sum(Bottles Sold))|\n",
      "+----+-----------------+----------------------+\n",
      "|2019|  AMERICAN VODKAS|                569647|\n",
      "|2019|  WHISKEY LIQUEUR|                308218|\n",
      "|2019|CANADIAN WHISKIES|                289875|\n",
      "+----+-----------------+----------------------+\n",
      "only showing top 3 rows\n",
      "\n",
      "+----+-----------------+----------------------+\n",
      "|Year|    Category Name|max(sum(Bottles Sold))|\n",
      "+----+-----------------+----------------------+\n",
      "|2020|  AMERICAN VODKAS|                452135|\n",
      "|2020|  WHISKEY LIQUEUR|                265048|\n",
      "|2020|CANADIAN WHISKIES|                225376|\n",
      "+----+-----------------+----------------------+\n",
      "only showing top 3 rows\n",
      "\n",
      "Wall time: 1min 54s\n"
     ]
    }
   ],
   "source": [
    "%%time\n",
    "years = [year for year in range(2012,2021)]\n",
    "for year in years:\n",
    "    df_brands.where(f'Year == {year}').sort(col(\"max(sum(Bottles Sold))\").desc()).show(3)"
   ]
  },
  {
   "cell_type": "markdown",
   "metadata": {},
   "source": [
    "## Q4: What are the various packaging types and which type of packaging was sold the most ? For example, 750 ml or 100ml etc. \n"
   ]
  },
  {
   "cell_type": "code",
   "execution_count": 22,
   "metadata": {},
   "outputs": [
    {
     "name": "stdout",
     "output_type": "stream",
     "text": [
      "Wall time: 22.7 ms\n"
     ]
    }
   ],
   "source": [
    "%%time\n",
    "# List out the different packaging types available.\n",
    "df_volume = df.groupby(\"Bottle Volume (ml)\").agg({\"Sale (Dollars)\": \"sum\"})"
   ]
  },
  {
   "cell_type": "code",
   "execution_count": 23,
   "metadata": {},
   "outputs": [
    {
     "name": "stdout",
     "output_type": "stream",
     "text": [
      "+------------------+--------------------+\n",
      "|Bottle Volume (ml)| sum(Sale (Dollars))|\n",
      "+------------------+--------------------+\n",
      "|               750|1.0694217439999333E8|\n",
      "|              1750| 6.737514133000413E7|\n",
      "|              1000| 6.077287644000481E7|\n",
      "|               375|1.4879685469999421E7|\n",
      "|               200|   5701155.400000061|\n",
      "+------------------+--------------------+\n",
      "only showing top 5 rows\n",
      "\n",
      "Wall time: 8.14 s\n"
     ]
    }
   ],
   "source": [
    "%%time\n",
    "# Which one is the most famous one\n",
    "df_volume.sort(col(\"sum(Sale (Dollars))\").desc()).show(5)"
   ]
  },
  {
   "cell_type": "code",
   "execution_count": 24,
   "metadata": {},
   "outputs": [
    {
     "name": "stdout",
     "output_type": "stream",
     "text": [
      "+------------------+-------------------+\n",
      "|Bottle Volume (ml)|sum(Sale (Dollars))|\n",
      "+------------------+-------------------+\n",
      "|               355|               45.0|\n",
      "|              1420|               99.0|\n",
      "|              2550|             275.92|\n",
      "|              2000| 320.15999999999997|\n",
      "|              4500|             413.64|\n",
      "+------------------+-------------------+\n",
      "only showing top 5 rows\n",
      "\n",
      "Wall time: 8.09 s\n"
     ]
    }
   ],
   "source": [
    "%%time\n",
    "# Which packaging is the least preferred one.\n",
    "df_volume.sort(col(\"sum(Sale (Dollars))\").asc()).show(5)"
   ]
  },
  {
   "cell_type": "code",
   "execution_count": 26,
   "metadata": {},
   "outputs": [
    {
     "name": "stdout",
     "output_type": "stream",
     "text": [
      "+-----------------+-----------------+--------+------------------+-------------------+\n",
      "|    Category Name|State Bottle Cost|Zip Code|Bottle Volume (ml)|State Bottle Retail|\n",
      "+-----------------+-----------------+--------+------------------+-------------------+\n",
      "|CANADIAN WHISKIES|             7.36|   50317|               375|              11.04|\n",
      "|CANADIAN WHISKIES|              4.2|   50129|               750|                6.3|\n",
      "|CANADIAN WHISKIES|             9.99|   52060|              1000|              14.99|\n",
      "|CANADIAN WHISKIES|             9.97|   52401|               750|              14.96|\n",
      "|CANADIAN WHISKIES|             3.07|   50170|               375|               4.61|\n",
      "|CANADIAN WHISKIES|             2.05|   50315|               375|               3.08|\n",
      "|CANADIAN WHISKIES|            18.89|    null|              1000|              28.34|\n",
      "|CANADIAN WHISKIES|             9.71|   52301|              1000|              14.57|\n",
      "|CANADIAN WHISKIES|            15.59|    null|               750|              23.39|\n",
      "|CANADIAN WHISKIES|            24.99|   50317|               750|              37.49|\n",
      "|CANADIAN WHISKIES|            15.59|    null|               750|              23.39|\n",
      "|CANADIAN WHISKIES|             6.75|    null|               750|              10.13|\n",
      "|CANADIAN WHISKIES|            10.45|    null|              1750|              15.68|\n",
      "|CANADIAN WHISKIES|             6.75|    null|               750|              10.13|\n",
      "|CANADIAN WHISKIES|             5.23|    null|               750|               7.85|\n",
      "|CANADIAN WHISKIES|            15.59|    null|               750|              23.39|\n",
      "|CANADIAN WHISKIES|              8.0|   51104|               375|               12.0|\n",
      "|CANADIAN WHISKIES|              8.0|    null|               375|               12.0|\n",
      "|CANADIAN WHISKIES|              8.0|    null|               375|               12.0|\n",
      "|CANADIAN WHISKIES|            15.59|   50021|               750|              23.39|\n",
      "+-----------------+-----------------+--------+------------------+-------------------+\n",
      "only showing top 20 rows\n",
      "\n"
     ]
    }
   ],
   "source": [
    "#For Example Consider this sample. As it is clear, CANADIAN WHISKIES of the same volume (1000 ml) has different prices in different zones\n",
    "converted_df=df\n",
    "converted_df.select('Category Name','State Bottle Cost','Zip Code','Bottle Volume (ml)','State Bottle Retail').filter((F.col('Category Name')=='CANADIAN WHISKIES')).show()"
   ]
  },
  {
   "cell_type": "markdown",
   "metadata": {},
   "source": [
    "## Q5:"
   ]
  },
  {
   "cell_type": "code",
   "execution_count": 27,
   "metadata": {},
   "outputs": [],
   "source": [
    "#convert the features to float:\n",
    "converted_df=df.withColumn('State Bottle Retail',df['State Bottle Retail'].cast(\"float\").alias('State Bottle Retail'))\n",
    "\n",
    "converted_df=converted_df.withColumn('State Bottle Cost',converted_df['State Bottle Cost'].cast(\"float\").alias('State Bottle Cost'))\n",
    "converted_df=converted_df.withColumn('Zip Code',converted_df['Zip Code'].cast(\"float\").alias('Zip Code'))\n",
    "converted_df=converted_df.withColumn('Bottle Volume (ml)',converted_df['Bottle Volume (ml)'].cast(\"float\").alias('Bottle Volume (ml)'))"
   ]
  },
  {
   "cell_type": "code",
   "execution_count": null,
   "metadata": {},
   "outputs": [],
   "source": [
    "%%time\n",
    "#Training dataset and its visulazition:\n",
    "training_df=np.array(converted_df.select('State Bottle Cost','Zip Code','Bottle Volume (ml)','Sale (Dollars)','State Bottle Retail').dropna().collect())\n",
    "\n",
    "training_npset=np.array(training_df).astype(float)\n",
    "\n",
    "\n",
    "\n",
    "fig = plt.figure()\n",
    "ax = Axes3D(fig)\n",
    "ax.scatter(training_npset[0:10000,0], training_npset[0:10000,1], training_npset[:,2])\n",
    "ax.set_xlabel('Price')\n",
    "ax.set_ylabel('Zip Code')\n",
    "ax.set_zlabel('Volume(ml)')\n",
    "\n",
    "\n",
    "plt.show()"
   ]
  },
  {
   "cell_type": "code",
   "execution_count": 29,
   "metadata": {},
   "outputs": [
    {
     "name": "stdout",
     "output_type": "stream",
     "text": [
      "0.4804221830300319\n"
     ]
    }
   ],
   "source": [
    "\n",
    "#Correlation between Price and Bottle Volume:\n",
    "\n",
    "cr_vol=np.corrcoef(training_npset[:,0], training_npset[:,2])\n",
    "print(cr_vol[0][1])"
   ]
  },
  {
   "cell_type": "code",
   "execution_count": 30,
   "metadata": {},
   "outputs": [
    {
     "name": "stdout",
     "output_type": "stream",
     "text": [
      "-0.014209971982009573\n"
     ]
    }
   ],
   "source": [
    "#Correlation between Price and zip code are:\n",
    "cr_zip=np.corrcoef(training_npset[:,0], training_npset[:,1])\n",
    "print(cr_zip[0][1])"
   ]
  },
  {
   "cell_type": "code",
   "execution_count": 31,
   "metadata": {},
   "outputs": [
    {
     "name": "stdout",
     "output_type": "stream",
     "text": [
      "0.10317526664216911\n"
     ]
    }
   ],
   "source": [
    "#Correlation between Price and Sale:\n",
    "cr_zip=np.corrcoef(training_npset[:,0], training_npset[:,3])\n",
    "print(cr_zip[0][1])"
   ]
  },
  {
   "cell_type": "code",
   "execution_count": 32,
   "metadata": {},
   "outputs": [
    {
     "name": "stdout",
     "output_type": "stream",
     "text": [
      "0.999980868867957\n"
     ]
    }
   ],
   "source": [
    "#Correlation between Price and State Bottle Retail:\n",
    "cr_zip=np.corrcoef(training_npset[:,0], training_npset[:,4])\n",
    "print(cr_zip[0][1])"
   ]
  },
  {
   "cell_type": "code",
   "execution_count": 33,
   "metadata": {},
   "outputs": [
    {
     "data": {
      "image/png": "[encoded data removed]",
      "text/plain": [
       "<Figure size 432x288 with 1 Axes>"
      ]
     },
     "metadata": {
      "needs_background": "light"
     },
     "output_type": "display_data"
    }
   ],
   "source": [
    "#Best choise is State retail for prediction. As it is clear from the Figure below:\n",
    "plt.scatter(training_npset[0:10000,0],training_npset[0:10000,4])\n",
    "plt.xlabel('Price')\n",
    "plt.ylabel('State Retail')\n",
    "plt.show()"
   ]
  },
  {
   "cell_type": "code",
   "execution_count": 34,
   "metadata": {},
   "outputs": [
    {
     "data": {
      "image/png": "[encoded data removed]",
      "text/plain": [
       "<Figure size 432x288 with 1 Axes>"
      ]
     },
     "metadata": {
      "needs_background": "light"
     },
     "output_type": "display_data"
    }
   ],
   "source": [
    "#Plot to see how Bottle Volume and Price are correlated:\n",
    "plt.scatter(training_npset[0:10000,0],training_npset[0:10000,2])\n",
    "plt.xlabel('Price')\n",
    "plt.ylabel('Bottle Volume')\n",
    "plt.show()"
   ]
  },
  {
   "cell_type": "markdown",
   "metadata": {},
   "source": [
    "### As it is clear from the figure above and the amount of correlations, State Retail and Bottle Volume are a good features to use in linear regression"
   ]
  },
  {
   "cell_type": "code",
   "execution_count": 35,
   "metadata": {},
   "outputs": [],
   "source": [
    "training_df=converted_df.select('State Bottle Cost','State Bottle Retail','Bottle Volume (ml)').dropna()\n",
    "assembler = VectorAssembler().setInputCols(['State Bottle Retail','Bottle Volume (ml)']).setOutputCol('features')\n",
    "tr_df=assembler.transform(training_df)"
   ]
  },
  {
   "cell_type": "code",
   "execution_count": 36,
   "metadata": {},
   "outputs": [
    {
     "name": "stdout",
     "output_type": "stream",
     "text": [
      "+-----------------+-------------------+------------------+--------------------+\n",
      "|State Bottle Cost|State Bottle Retail|Bottle Volume (ml)|            features|\n",
      "+-----------------+-------------------+------------------+--------------------+\n",
      "|              0.0|                0.0|             750.0|         [0.0,750.0]|\n",
      "|             0.97|               1.46|             100.0|[1.46000003814697...|\n",
      "|             7.36|              11.04|             375.0|[11.0399999618530...|\n",
      "|            11.49|              17.24|             750.0|[17.2399997711181...|\n",
      "|             4.75|               7.13|             750.0|[7.13000011444091...|\n",
      "+-----------------+-------------------+------------------+--------------------+\n",
      "only showing top 5 rows\n",
      "\n"
     ]
    }
   ],
   "source": [
    "tr_df.show(5)"
   ]
  },
  {
   "cell_type": "code",
   "execution_count": 37,
   "metadata": {},
   "outputs": [
    {
     "name": "stdout",
     "output_type": "stream",
     "text": [
      "+--------------------+-----+\n",
      "|            features|label|\n",
      "+--------------------+-----+\n",
      "|         [0.0,750.0]|  0.0|\n",
      "|[1.46000003814697...| 0.97|\n",
      "|[11.0399999618530...| 7.36|\n",
      "|[17.2399997711181...|11.49|\n",
      "|[7.13000011444091...| 4.75|\n",
      "+--------------------+-----+\n",
      "only showing top 5 rows\n",
      "\n"
     ]
    }
   ],
   "source": [
    "final_df= tr_df.select(['features', F.col('State Bottle Cost').alias('label')])\n",
    "final_df.show(5)"
   ]
  },
  {
   "cell_type": "code",
   "execution_count": 38,
   "metadata": {},
   "outputs": [],
   "source": [
    "#Train and test split:\n",
    "train, test = final_df.randomSplit([0.7, 0.3], seed=42)"
   ]
  },
  {
   "cell_type": "code",
   "execution_count": 39,
   "metadata": {},
   "outputs": [],
   "source": [
    "lr_model = LinearRegression(featuresCol='features',labelCol='label')\n"
   ]
  },
  {
   "cell_type": "code",
   "execution_count": 41,
   "metadata": {},
   "outputs": [
    {
     "name": "stdout",
     "output_type": "stream",
     "text": [
      "Wall time: 44.2 s\n"
     ]
    }
   ],
   "source": [
    "%%time\n",
    "fit_model = lr_model.fit(train)\n"
   ]
  },
  {
   "cell_type": "code",
   "execution_count": 42,
   "metadata": {},
   "outputs": [
    {
     "name": "stdout",
     "output_type": "stream",
     "text": [
      "99.99664548085066  percent accuracy on test set\n",
      "Wall time: 24.3 s\n"
     ]
    }
   ],
   "source": [
    "%%time\n",
    "test_results = fit_model.evaluate(test)\n",
    "print(test_results.r2*100,' percent accuracy on test set')\n"
   ]
  },
  {
   "cell_type": "code",
   "execution_count": 43,
   "metadata": {},
   "outputs": [],
   "source": [
    "y_pred=np.array(test_results.predictions.select(\"prediction\").collect())"
   ]
  },
  {
   "cell_type": "code",
   "execution_count": 46,
   "metadata": {},
   "outputs": [],
   "source": [
    "test_np=np.array(test.select('features').collect())\n",
    "y_true=np.array(test.select('label').collect())\n"
   ]
  },
  {
   "cell_type": "code",
   "execution_count": 47,
   "metadata": {},
   "outputs": [
    {
     "data": {
      "image/png": "[encoded data removed]",
      "text/plain": [
       "<Figure size 432x288 with 1 Axes>"
      ]
     },
     "metadata": {
      "needs_background": "light"
     },
     "output_type": "display_data"
    }
   ],
   "source": [
    "fig = plt.figure()\n",
    "ax = fig.add_subplot(111)\n",
    "ax.grid()\n",
    "\n",
    "n=100000\n",
    "\n",
    "plt.scatter(test_np[0:n,0][0:n,0],y_true[0:n,0] )\n",
    "plt.xlabel(\"Retail\")\n",
    "plt.ylabel('price')\n",
    "plt.plot(test_np[0:n,0][0:n,0], y_pred[0:n,0],  c='r')\n",
    "\n",
    "plt.show()"
   ]
  }
 ],
 "metadata": {
  "kernelspec": {
   "display_name": "Python 3",
   "language": "python",
   "name": "python3"
  },
  "language_info": {
   "codemirror_mode": {
    "name": "ipython",
    "version": 3
   },
   "file_extension": ".py",
   "mimetype": "text/x-python",
   "name": "python",
   "nbconvert_exporter": "python",
   "pygments_lexer": "ipython3",
   "version": "3.7.0"
  }
 },
 "nbformat": 4,
 "nbformat_minor": 5
}
